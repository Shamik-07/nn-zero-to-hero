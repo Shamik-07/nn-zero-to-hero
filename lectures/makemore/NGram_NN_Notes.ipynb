{
 "cells": [
  {
   "cell_type": "markdown",
   "metadata": {},
   "source": [
    "# Recreating the NN in this paper\n",
    "https://www.jmlr.org/papers/volume3/bengio03a/bengio03a.pdf"
   ]
  },
  {
   "cell_type": "code",
   "execution_count": 1,
   "metadata": {
    "execution": {
     "iopub.execute_input": "2024-10-26T09:40:50.497258Z",
     "iopub.status.busy": "2024-10-26T09:40:50.496210Z",
     "iopub.status.idle": "2024-10-26T09:41:02.002093Z",
     "shell.execute_reply": "2024-10-26T09:41:02.000966Z",
     "shell.execute_reply.started": "2024-10-26T09:40:50.497181Z"
    }
   },
   "outputs": [],
   "source": [
    "import torch\n",
    "import torch.nn.functional as F\n",
    "import matplotlib.pyplot as plt # for making figures\n",
    "%matplotlib inline\n",
    "\n",
    "import random"
   ]
  },
  {
   "cell_type": "markdown",
   "metadata": {},
   "source": [
    "# Reading file"
   ]
  },
  {
   "cell_type": "code",
   "execution_count": 2,
   "metadata": {
    "execution": {
     "iopub.execute_input": "2024-10-26T09:41:02.004714Z",
     "iopub.status.busy": "2024-10-26T09:41:02.004060Z",
     "iopub.status.idle": "2024-10-26T09:41:02.026477Z",
     "shell.execute_reply": "2024-10-26T09:41:02.025159Z",
     "shell.execute_reply.started": "2024-10-26T09:41:02.004668Z"
    }
   },
   "outputs": [
    {
     "data": {
      "text/plain": [
       "['emma', 'olivia', 'ava', 'isabella', 'sophia', 'charlotte', 'mia', 'amelia']"
      ]
     },
     "execution_count": 2,
     "metadata": {},
     "output_type": "execute_result"
    }
   ],
   "source": [
    "# read in all the words\n",
    "words = open('names.txt', 'r').read().splitlines()\n",
    "words[:8]"
   ]
  },
  {
   "cell_type": "code",
   "execution_count": 3,
   "metadata": {
    "execution": {
     "iopub.execute_input": "2024-10-26T09:41:02.029360Z",
     "iopub.status.busy": "2024-10-26T09:41:02.028068Z",
     "iopub.status.idle": "2024-10-26T09:41:02.109277Z",
     "shell.execute_reply": "2024-10-26T09:41:02.108014Z",
     "shell.execute_reply.started": "2024-10-26T09:41:02.029314Z"
    }
   },
   "outputs": [
    {
     "data": {
      "text/plain": [
       "32033"
      ]
     },
     "execution_count": 3,
     "metadata": {},
     "output_type": "execute_result"
    }
   ],
   "source": [
    "len(words)"
   ]
  },
  {
   "cell_type": "markdown",
   "metadata": {},
   "source": [
    "# Vocabulary mapping"
   ]
  },
  {
   "cell_type": "code",
   "execution_count": 4,
   "metadata": {
    "execution": {
     "iopub.execute_input": "2024-10-26T09:41:02.112742Z",
     "iopub.status.busy": "2024-10-26T09:41:02.111794Z",
     "iopub.status.idle": "2024-10-26T09:41:02.234671Z",
     "shell.execute_reply": "2024-10-26T09:41:02.233487Z",
     "shell.execute_reply.started": "2024-10-26T09:41:02.112704Z"
    }
   },
   "outputs": [
    {
     "name": "stdout",
     "output_type": "stream",
     "text": [
      "{1: 'a', 2: 'b', 3: 'c', 4: 'd', 5: 'e', 6: 'f', 7: 'g', 8: 'h', 9: 'i', 10: 'j', 11: 'k', 12: 'l', 13: 'm', 14: 'n', 15: 'o', 16: 'p', 17: 'q', 18: 'r', 19: 's', 20: 't', 21: 'u', 22: 'v', 23: 'w', 24: 'x', 25: 'y', 26: 'z', 0: '.'}\n"
     ]
    }
   ],
   "source": [
    "# build the vocabulary of characters and mappings to/from integers\n",
    "chars = sorted(list(set(''.join(words))))\n",
    "stoi = {s:i+1 for i,s in enumerate(chars)}\n",
    "stoi['.'] = 0\n",
    "itos = {i:s for s,i in stoi.items()}\n",
    "print(itos)"
   ]
  },
  {
   "cell_type": "markdown",
   "metadata": {},
   "source": [
    "# Creating a single dataset"
   ]
  },
  {
   "cell_type": "code",
   "execution_count": 5,
   "metadata": {
    "execution": {
     "iopub.execute_input": "2024-10-26T09:41:02.236404Z",
     "iopub.status.busy": "2024-10-26T09:41:02.235998Z",
     "iopub.status.idle": "2024-10-26T09:41:03.441291Z",
     "shell.execute_reply": "2024-10-26T09:41:03.440401Z",
     "shell.execute_reply.started": "2024-10-26T09:41:02.236370Z"
    }
   },
   "outputs": [],
   "source": [
    "# build the dataset\n",
    "\n",
    "block_size = 3 # context length: how many characters do we take to predict the next one?\n",
    "X, Y = [], []\n",
    "for w in words:\n",
    "  \n",
    "  #print(w)\n",
    "  context = [0] * block_size\n",
    "  for ch in w + '.':\n",
    "    ix = stoi[ch]\n",
    "    X.append(context)\n",
    "    Y.append(ix)\n",
    "    #print(''.join(itos[i] for i in context), '--->', itos[ix])\n",
    "    context = context[1:] + [ix] # crop and append\n",
    "  \n",
    "X = torch.tensor(X)\n",
    "Y = torch.tensor(Y)"
   ]
  },
  {
   "cell_type": "code",
   "execution_count": 6,
   "metadata": {
    "execution": {
     "iopub.execute_input": "2024-10-26T09:41:03.442769Z",
     "iopub.status.busy": "2024-10-26T09:41:03.442256Z",
     "iopub.status.idle": "2024-10-26T09:41:03.450489Z",
     "shell.execute_reply": "2024-10-26T09:41:03.448863Z",
     "shell.execute_reply.started": "2024-10-26T09:41:03.442719Z"
    }
   },
   "outputs": [
    {
     "data": {
      "text/plain": [
       "(torch.Size([228146, 3]), torch.int64, torch.Size([228146]), torch.int64)"
      ]
     },
     "execution_count": 6,
     "metadata": {},
     "output_type": "execute_result"
    }
   ],
   "source": [
    "X.shape, X.dtype, Y.shape, Y.dtype"
   ]
  },
  {
   "cell_type": "markdown",
   "metadata": {},
   "source": [
    "# Creating Train, Test, Dev dataset"
   ]
  },
  {
   "cell_type": "code",
   "execution_count": 7,
   "metadata": {
    "execution": {
     "iopub.execute_input": "2024-10-26T09:41:03.452792Z",
     "iopub.status.busy": "2024-10-26T09:41:03.452191Z",
     "iopub.status.idle": "2024-10-26T09:41:03.549770Z",
     "shell.execute_reply": "2024-10-26T09:41:03.548495Z",
     "shell.execute_reply.started": "2024-10-26T09:41:03.452731Z"
    }
   },
   "outputs": [],
   "source": [
    "# build the dataset\n",
    "block_size = 3 # context length: how many characters do we take to predict the next one?\n",
    "\n",
    "def build_dataset(words):  \n",
    "  X, Y = [], []\n",
    "  for w in words:\n",
    "\n",
    "    #print(w)\n",
    "    context = [0] * block_size\n",
    "    for ch in w + '.':\n",
    "      ix = stoi[ch]\n",
    "      X.append(context)\n",
    "      Y.append(ix)\n",
    "      #print(''.join(itos[i] for i in context), '--->', itos[ix])\n",
    "      context = context[1:] + [ix] # crop and append\n",
    "\n",
    "  X = torch.tensor(X)\n",
    "  Y = torch.tensor(Y)\n",
    "  print(X.shape, Y.shape)\n",
    "  return X, Y"
   ]
  },
  {
   "cell_type": "code",
   "execution_count": 8,
   "metadata": {
    "execution": {
     "iopub.execute_input": "2024-10-26T09:41:03.551577Z",
     "iopub.status.busy": "2024-10-26T09:41:03.550957Z",
     "iopub.status.idle": "2024-10-26T09:41:04.497271Z",
     "shell.execute_reply": "2024-10-26T09:41:04.495940Z",
     "shell.execute_reply.started": "2024-10-26T09:41:03.551515Z"
    }
   },
   "outputs": [
    {
     "name": "stdout",
     "output_type": "stream",
     "text": [
      "torch.Size([182625, 3]) torch.Size([182625])\n",
      "torch.Size([22655, 3]) torch.Size([22655])\n",
      "torch.Size([22866, 3]) torch.Size([22866])\n"
     ]
    }
   ],
   "source": [
    "random.seed(42)\n",
    "random.shuffle(words)\n",
    "n1 = int(0.8*len(words))\n",
    "n2 = int(0.9*len(words))\n",
    "\n",
    "Xtr, Ytr = build_dataset(words[:n1])\n",
    "Xdev, Ydev = build_dataset(words[n1:n2])\n",
    "Xte, Yte = build_dataset(words[n2:])"
   ]
  },
  {
   "cell_type": "markdown",
   "metadata": {},
   "source": [
    "#  Creating Embedding table\n",
    "\n",
    "**Instead of doing a multiplication with `One hot encoding` and the embedding matrix, here `C`, it's easier to index into `C` directly as it's one and the same.**\n",
    "\n",
    "Now for pytorch the indexing is really cool. Look at the following examples:\n",
    "```python\n",
    "C[0]\n",
    "C[[0,0,0]]\n",
    "C[torch.tensor((0,0,0))]\n",
    "C[torch.randint(0,1,(2,2))]\n",
    "```"
   ]
  },
  {
   "cell_type": "code",
   "execution_count": 9,
   "metadata": {
    "execution": {
     "iopub.execute_input": "2024-10-26T09:41:04.499856Z",
     "iopub.status.busy": "2024-10-26T09:41:04.499226Z",
     "iopub.status.idle": "2024-10-26T09:41:04.660889Z",
     "shell.execute_reply": "2024-10-26T09:41:04.659481Z",
     "shell.execute_reply.started": "2024-10-26T09:41:04.499796Z"
    }
   },
   "outputs": [],
   "source": [
    "C = torch.randn((27, 2))"
   ]
  },
  {
   "cell_type": "code",
   "execution_count": 10,
   "metadata": {
    "execution": {
     "iopub.execute_input": "2024-10-26T09:41:04.666155Z",
     "iopub.status.busy": "2024-10-26T09:41:04.665523Z",
     "iopub.status.idle": "2024-10-26T09:41:04.965708Z",
     "shell.execute_reply": "2024-10-26T09:41:04.964391Z",
     "shell.execute_reply.started": "2024-10-26T09:41:04.666083Z"
    }
   },
   "outputs": [
    {
     "data": {
      "text/plain": [
       "torch.Size([228146, 3, 2])"
      ]
     },
     "execution_count": 10,
     "metadata": {},
     "output_type": "execute_result"
    }
   ],
   "source": [
    "emb = C[X]\n",
    "emb.shape"
   ]
  },
  {
   "cell_type": "code",
   "execution_count": 11,
   "metadata": {
    "execution": {
     "iopub.execute_input": "2024-10-26T09:41:04.967886Z",
     "iopub.status.busy": "2024-10-26T09:41:04.967174Z",
     "iopub.status.idle": "2024-10-26T09:41:05.474369Z",
     "shell.execute_reply": "2024-10-26T09:41:05.473016Z",
     "shell.execute_reply.started": "2024-10-26T09:41:04.967832Z"
    }
   },
   "outputs": [
    {
     "data": {
      "text/plain": [
       "tensor([[-1.2415, -0.1278],\n",
       "        [-1.2415, -0.1278],\n",
       "        [-1.2415, -0.1278]])"
      ]
     },
     "execution_count": 11,
     "metadata": {},
     "output_type": "execute_result"
    }
   ],
   "source": [
    "emb[0]"
   ]
  },
  {
   "cell_type": "markdown",
   "metadata": {},
   "source": [
    "# Creating the first NN layer\n",
    "\n",
    "**The first layer takes in the 3 embeddings and feeds into a tanh layer. Since there are 3 embeddings each of size 2 the total no. of inputs is 3*2=6, with the number of neurons that we would want, in this case 100. So the final Weight matrix =(6,100)**"
   ]
  },
  {
   "attachments": {
    "8ba0e8a9-656c-4976-bab0-226b0023ff22.png": {
     "image/png": "[encoded data removed]"
    }
   },
   "cell_type": "markdown",
   "metadata": {},
   "source": [
    "![image.png](attachment:8ba0e8a9-656c-4976-bab0-226b0023ff22.png)"
   ]
  },
  {
   "cell_type": "code",
   "execution_count": 12,
   "metadata": {
    "execution": {
     "iopub.execute_input": "2024-10-26T09:41:19.943383Z",
     "iopub.status.busy": "2024-10-26T09:41:19.941475Z",
     "iopub.status.idle": "2024-10-26T09:41:19.956673Z",
     "shell.execute_reply": "2024-10-26T09:41:19.954439Z",
     "shell.execute_reply.started": "2024-10-26T09:41:19.943265Z"
    }
   },
   "outputs": [],
   "source": [
    "W1 = torch.randn((6, 100))\n",
    "b1 = torch.randn(100)"
   ]
  },
  {
   "cell_type": "markdown",
   "metadata": {},
   "source": [
    "After initialising the weight matrix and the bias vector, the 3 embedding matrices have to be concatenated first, as in the diagram above, and then multiplied together with the weight matrix. Concatenating the 3 embedding matrices will return a matrix of shape (n,6) as initially each embedding matrix had a shape of (27,2). To represent a single character we would need a matrix of shape(1,2) and since there are three characters chosen so they will need to be represented by (3,2), concatenating these three character embeddings would return a matrix of shape (1,6). Therefore, to represent n such blocks of 3 characters each we will need a (n,6) concatenated matrix.\n",
    "\n",
    "There are many ways to concatenate the embedding matrices and below are some of the options.\n",
    "\n",
    "1. Concatenate into a single embedding matrix, in our case as there are 3 embedding matrices, so there will be 3 separate embedding matrices to be concatenated. If there are n embedding matrices then n embedding matrices need to be concatenated. The following code isn't scalable to n embedding matrices of course.\n",
    "```python\n",
    "# selecting the 3 embedding matrices separately\n",
    "emb[:,0,:], emb[:,1,:], emb[:,2,:]# will return each of shape (n,2) as each embedding matrix has (n,2) dimension\n",
    "# concatenating each (n,2) matrix along dimension 1 will give us a (n,6) matrix\n",
    "# as each row of each matrix will be concatenated into a single row thus giving us (n,3*2) numbers in each row\n",
    "# if the concatenation is done with dimension 0, then it will concatenate each row instead of the columns returning (3*n,2)\n",
    "torch.cat((emb[:,0,:], emb[:,1,:], emb[:,2,:]),dim=1)\n",
    "```\n",
    "2. The above example isn't scalable as each matrix needs to be separated out first and as the dimensions of the embedding matrix increases separating them out in the manner above is unfeasible, however the same can be done with another method from torch:\n",
    "```python\n",
    "# this will give us a tuple of 3 matrices each the shape of (n,2) because the embedding matrix has a shape of (n,3,2) and torch.unbind along dimension 1 will separate the matrix into 3 matrices of (n,2) effectively a tuple of matrices ((n,2),(n,2),(n,2))\n",
    "torch.unbind(emb, dim=1)\n",
    "# now the same concat will work to give us the a single concatenated matrix (n,6)\n",
    "torch.cat(torch.unbind(emb,dim=1), dim=1)\n",
    "```\n",
    "3. The above two operations are very memory intensive as they create new matrices and store it in memory. However, the best way to perform this is to reshape the matrix:\n",
    "```python\n",
    "# the 3 embedding matrices need to be concatenated into a single matrix with dimension (n,6)\n",
    "# and just by reshaping the embedding matrix one can achieve the same; since the final matrix\n",
    "# dimension is (n,6), the embedding matrix can be reshaped simply as (n,6) and it will turn\n",
    "# out that it's the same as concatenating the 3 embedding matrices \n",
    "emb.view(emb.shape[0], 6)\n",
    "# or \n",
    "emb.view(-1, 6)\n",
    "```\n",
    "For verification that all the 3 results produce the same concatenated embedding matrix, execute the following:\n",
    "```python\n",
    "torch.cat((emb[:,0,:], emb[:,1,:], emb[:,2,:]),dim=1)[0], torch.cat(torch.unbind(emb,dim=1), dim=1)[0], emb.view(emb.shape[0], 6)[0]\n",
    "```"
   ]
  },
  {
   "cell_type": "markdown",
   "metadata": {},
   "source": [
    "Now that we have concatenated the 3 embedding matrices we can multiply them with the weight matrix and add the bias to it. \n",
    "We will also need to pass the outputs through `tanh` non-linearity."
   ]
  },
  {
   "cell_type": "code",
   "execution_count": 77,
   "metadata": {
    "execution": {
     "iopub.execute_input": "2024-10-26T11:06:27.445495Z",
     "iopub.status.busy": "2024-10-26T11:06:27.442760Z",
     "iopub.status.idle": "2024-10-26T11:06:27.877060Z",
     "shell.execute_reply": "2024-10-26T11:06:27.875792Z",
     "shell.execute_reply.started": "2024-10-26T11:06:27.444965Z"
    }
   },
   "outputs": [],
   "source": [
    "h = torch.tanh(emb.view(-1, 6) @ W1 + b1)\n",
    "# or \n",
    "# h = (emb.view(-1, 6) @ W1 + b1).tanh"
   ]
  },
  {
   "cell_type": "code",
   "execution_count": 79,
   "metadata": {
    "execution": {
     "iopub.execute_input": "2024-10-26T11:06:32.460313Z",
     "iopub.status.busy": "2024-10-26T11:06:32.459075Z",
     "iopub.status.idle": "2024-10-26T11:06:32.473216Z",
     "shell.execute_reply": "2024-10-26T11:06:32.471650Z",
     "shell.execute_reply.started": "2024-10-26T11:06:32.460239Z"
    }
   },
   "outputs": [
    {
     "data": {
      "text/plain": [
       "torch.Size([228146, 100])"
      ]
     },
     "execution_count": 79,
     "metadata": {},
     "output_type": "execute_result"
    }
   ],
   "source": [
    "h.shape"
   ]
  },
  {
   "cell_type": "markdown",
   "metadata": {},
   "source": [
    "Now for the final layer of the NN, `we need to output 27 logits`, one for each character, and the `input has to be 100 as the previous layer returned (n,100)`, so we choose `(100,27)` as the weight matrix and add a bias vector of 27 to it."
   ]
  },
  {
   "cell_type": "code",
   "execution_count": 80,
   "metadata": {
    "execution": {
     "iopub.execute_input": "2024-10-26T11:09:38.129686Z",
     "iopub.status.busy": "2024-10-26T11:09:38.129064Z",
     "iopub.status.idle": "2024-10-26T11:09:38.138725Z",
     "shell.execute_reply": "2024-10-26T11:09:38.136121Z",
     "shell.execute_reply.started": "2024-10-26T11:09:38.129629Z"
    }
   },
   "outputs": [],
   "source": [
    "W2 = torch.randn((100, 27))\n",
    "b2 = torch.randn(27)"
   ]
  },
  {
   "cell_type": "code",
   "execution_count": 81,
   "metadata": {
    "execution": {
     "iopub.execute_input": "2024-10-26T11:09:38.933603Z",
     "iopub.status.busy": "2024-10-26T11:09:38.932936Z",
     "iopub.status.idle": "2024-10-26T11:09:39.089331Z",
     "shell.execute_reply": "2024-10-26T11:09:39.087526Z",
     "shell.execute_reply.started": "2024-10-26T11:09:38.933538Z"
    }
   },
   "outputs": [],
   "source": [
    "logits = h @ W2 + b2"
   ]
  },
  {
   "cell_type": "code",
   "execution_count": 82,
   "metadata": {
    "execution": {
     "iopub.execute_input": "2024-10-26T11:09:40.797291Z",
     "iopub.status.busy": "2024-10-26T11:09:40.796408Z",
     "iopub.status.idle": "2024-10-26T11:09:40.810456Z",
     "shell.execute_reply": "2024-10-26T11:09:40.807762Z",
     "shell.execute_reply.started": "2024-10-26T11:09:40.797216Z"
    }
   },
   "outputs": [
    {
     "data": {
      "text/plain": [
       "torch.Size([228146, 27])"
      ]
     },
     "execution_count": 82,
     "metadata": {},
     "output_type": "execute_result"
    }
   ],
   "source": [
    "logits.shape"
   ]
  },
  {
   "cell_type": "markdown",
   "metadata": {},
   "source": [
    "The following two cells is for `Softmax` and it could be done in a single operation `F.softmax(logits, dim=1)`.\n",
    "The variable `prob` and `F.softmax(logits, dim=1)` are identical but if you compare it element wise you will notice that some of them return false due to floating point precision errors but actually visually compared they are identical and for all purposes these two operations yield identical results."
   ]
  },
  {
   "cell_type": "code",
   "execution_count": 83,
   "metadata": {
    "execution": {
     "iopub.execute_input": "2024-10-26T11:09:44.258702Z",
     "iopub.status.busy": "2024-10-26T11:09:44.257799Z",
     "iopub.status.idle": "2024-10-26T11:09:44.343092Z",
     "shell.execute_reply": "2024-10-26T11:09:44.341542Z",
     "shell.execute_reply.started": "2024-10-26T11:09:44.258610Z"
    }
   },
   "outputs": [],
   "source": [
    "counts = logits.exp()"
   ]
  },
  {
   "cell_type": "code",
   "execution_count": 84,
   "metadata": {
    "execution": {
     "iopub.execute_input": "2024-10-26T11:09:46.095796Z",
     "iopub.status.busy": "2024-10-26T11:09:46.094162Z",
     "iopub.status.idle": "2024-10-26T11:09:46.153197Z",
     "shell.execute_reply": "2024-10-26T11:09:46.150949Z",
     "shell.execute_reply.started": "2024-10-26T11:09:46.095683Z"
    }
   },
   "outputs": [],
   "source": [
    "prob = counts / counts.sum(1, keepdims=True)"
   ]
  },
  {
   "cell_type": "code",
   "execution_count": 85,
   "metadata": {
    "execution": {
     "iopub.execute_input": "2024-10-26T11:09:49.270788Z",
     "iopub.status.busy": "2024-10-26T11:09:49.269867Z",
     "iopub.status.idle": "2024-10-26T11:09:49.287184Z",
     "shell.execute_reply": "2024-10-26T11:09:49.285049Z",
     "shell.execute_reply.started": "2024-10-26T11:09:49.270713Z"
    }
   },
   "outputs": [
    {
     "data": {
      "text/plain": [
       "torch.Size([228146, 27])"
      ]
     },
     "execution_count": 85,
     "metadata": {},
     "output_type": "execute_result"
    }
   ],
   "source": [
    "prob.shape"
   ]
  },
  {
   "cell_type": "markdown",
   "metadata": {},
   "source": [
    "Calculating the NLL of the entire dataset."
   ]
  },
  {
   "cell_type": "code",
   "execution_count": 121,
   "metadata": {
    "execution": {
     "iopub.execute_input": "2024-10-26T11:21:53.844245Z",
     "iopub.status.busy": "2024-10-26T11:21:53.843503Z",
     "iopub.status.idle": "2024-10-26T11:21:53.953565Z",
     "shell.execute_reply": "2024-10-26T11:21:53.952087Z",
     "shell.execute_reply.started": "2024-10-26T11:21:53.844176Z"
    }
   },
   "outputs": [
    {
     "data": {
      "text/plain": [
       "tensor(15.7856)"
      ]
     },
     "execution_count": 121,
     "metadata": {},
     "output_type": "execute_result"
    }
   ],
   "source": [
    "loss = -prob[torch.arange(prob.shape[0]), Y].log().mean()\n",
    "loss"
   ]
  },
  {
   "cell_type": "code",
   "execution_count": null,
   "metadata": {},
   "outputs": [],
   "source": []
  },
  {
   "cell_type": "markdown",
   "metadata": {},
   "source": [
    "# Generalising the NN implementation\n",
    "Increasing the embedding matrix to 10 and adding more neurons to the hidden layers"
   ]
  },
  {
   "cell_type": "code",
   "execution_count": 129,
   "metadata": {
    "execution": {
     "iopub.execute_input": "2024-10-26T11:28:26.128389Z",
     "iopub.status.busy": "2024-10-26T11:28:26.127736Z",
     "iopub.status.idle": "2024-10-26T11:28:26.150875Z",
     "shell.execute_reply": "2024-10-26T11:28:26.148716Z",
     "shell.execute_reply.started": "2024-10-26T11:28:26.128334Z"
    }
   },
   "outputs": [],
   "source": [
    "g = torch.Generator().manual_seed(2147483647) # for reproducibility\n",
    "C = torch.randn((27, 10), generator=g)\n",
    "\n",
    "W1 = torch.randn((30, 200), generator=g)\n",
    "b1 = torch.randn(200, generator=g)\n",
    "\n",
    "W2 = torch.randn((200, 27), generator=g)\n",
    "b2 = torch.randn(27, generator=g)\n",
    "\n",
    "parameters = [C, W1, b1, W2, b2]"
   ]
  },
  {
   "cell_type": "code",
   "execution_count": 130,
   "metadata": {
    "execution": {
     "iopub.execute_input": "2024-10-26T11:28:27.189331Z",
     "iopub.status.busy": "2024-10-26T11:28:27.188354Z",
     "iopub.status.idle": "2024-10-26T11:28:27.200312Z",
     "shell.execute_reply": "2024-10-26T11:28:27.198565Z",
     "shell.execute_reply.started": "2024-10-26T11:28:27.189281Z"
    }
   },
   "outputs": [
    {
     "data": {
      "text/plain": [
       "11897"
      ]
     },
     "execution_count": 130,
     "metadata": {},
     "output_type": "execute_result"
    }
   ],
   "source": [
    "sum(p.nelement() for p in parameters) # number of parameters in total"
   ]
  },
  {
   "cell_type": "code",
   "execution_count": 135,
   "metadata": {
    "execution": {
     "iopub.execute_input": "2024-10-26T11:30:04.165413Z",
     "iopub.status.busy": "2024-10-26T11:30:04.164766Z",
     "iopub.status.idle": "2024-10-26T11:30:04.181700Z",
     "shell.execute_reply": "2024-10-26T11:30:04.178327Z",
     "shell.execute_reply.started": "2024-10-26T11:30:04.165360Z"
    }
   },
   "outputs": [
    {
     "data": {
      "text/plain": [
       "11897"
      ]
     },
     "execution_count": 135,
     "metadata": {},
     "output_type": "execute_result"
    }
   ],
   "source": [
    "# identical as above\n",
    "sum(p.numel() for p in parameters) # number of parameters in total"
   ]
  },
  {
   "cell_type": "markdown",
   "metadata": {},
   "source": [
    "Marking the parameters grad=True"
   ]
  },
  {
   "cell_type": "code",
   "execution_count": 131,
   "metadata": {
    "execution": {
     "iopub.execute_input": "2024-10-26T11:28:29.199780Z",
     "iopub.status.busy": "2024-10-26T11:28:29.197685Z",
     "iopub.status.idle": "2024-10-26T11:28:29.210134Z",
     "shell.execute_reply": "2024-10-26T11:28:29.207014Z",
     "shell.execute_reply.started": "2024-10-26T11:28:29.199703Z"
    }
   },
   "outputs": [],
   "source": [
    "for p in parameters:\n",
    "  p.requires_grad = True"
   ]
  },
  {
   "cell_type": "markdown",
   "metadata": {},
   "source": [
    "Initialising the learning rate"
   ]
  },
  {
   "cell_type": "code",
   "execution_count": 136,
   "metadata": {
    "execution": {
     "iopub.execute_input": "2024-10-26T11:34:56.451708Z",
     "iopub.status.busy": "2024-10-26T11:34:56.449276Z",
     "iopub.status.idle": "2024-10-26T11:34:56.506465Z",
     "shell.execute_reply": "2024-10-26T11:34:56.504454Z",
     "shell.execute_reply.started": "2024-10-26T11:34:56.451628Z"
    }
   },
   "outputs": [],
   "source": [
    "lre = torch.linspace(-3, 0, 1000)\n",
    "lrs = 10**lre"
   ]
  },
  {
   "cell_type": "code",
   "execution_count": 154,
   "metadata": {
    "execution": {
     "iopub.execute_input": "2024-10-26T11:51:12.795837Z",
     "iopub.status.busy": "2024-10-26T11:51:12.795253Z",
     "iopub.status.idle": "2024-10-26T11:51:12.817903Z",
     "shell.execute_reply": "2024-10-26T11:51:12.816662Z",
     "shell.execute_reply.started": "2024-10-26T11:51:12.795780Z"
    }
   },
   "outputs": [],
   "source": [
    "lri = []\n",
    "lossi = []\n",
    "stepi = []"
   ]
  },
  {
   "cell_type": "markdown",
   "metadata": {},
   "source": [
    "Running the entire training of the NN"
   ]
  },
  {
   "cell_type": "code",
   "execution_count": 155,
   "metadata": {
    "execution": {
     "iopub.execute_input": "2024-10-26T11:51:15.370644Z",
     "iopub.status.busy": "2024-10-26T11:51:15.369357Z",
     "iopub.status.idle": "2024-10-26T11:54:15.900251Z",
     "shell.execute_reply": "2024-10-26T11:54:15.899252Z",
     "shell.execute_reply.started": "2024-10-26T11:51:15.370516Z"
    }
   },
   "outputs": [],
   "source": [
    "for i in range(200_000):\n",
    "    \n",
    "    # minibatch construct\n",
    "    ix = torch.randint(0, Xtr.shape[0], (32,))\n",
    "    \n",
    "    # forward pass\n",
    "    emb = C[Xtr[ix]] # (32, 3, 10)\n",
    "    h = torch.tanh(emb.view(-1, 30) @ W1 + b1) # (32, 200)\n",
    "    logits = h @ W2 + b2 # (32, 27)\n",
    "    # this is the same as calculating the softmax and computing the NLL loss\n",
    "    loss = F.cross_entropy(logits, Ytr[ix])\n",
    "    #print(loss.item())\n",
    "    \n",
    "    # backward pass; initially resetting the gradients\n",
    "    # and then backpropagating\n",
    "    for p in parameters:\n",
    "        p.grad = None\n",
    "    loss.backward()\n",
    "    \n",
    "    # update the gradients\n",
    "    # learning rate decay, before 100K the learning rate is higher\n",
    "    # and after that it's lower\n",
    "    #lr = lrs[i]\n",
    "    lr = 0.1 if i < 100_000 else 0.01\n",
    "    for p in parameters:\n",
    "        p.data += -lr * p.grad\n",
    "    \n",
    "    # track stats\n",
    "    #lri.append(lre[i])\n",
    "    stepi.append(i)\n",
    "    lossi.append(loss.log10().item())\n",
    "    \n",
    "    #print(loss.item())"
   ]
  },
  {
   "cell_type": "code",
   "execution_count": 156,
   "metadata": {
    "execution": {
     "iopub.execute_input": "2024-10-26T11:54:15.902287Z",
     "iopub.status.busy": "2024-10-26T11:54:15.901932Z",
     "iopub.status.idle": "2024-10-26T11:54:17.333305Z",
     "shell.execute_reply": "2024-10-26T11:54:17.331718Z",
     "shell.execute_reply.started": "2024-10-26T11:54:15.902255Z"
    }
   },
   "outputs": [
    {
     "data": {
      "text/plain": [
       "[<matplotlib.lines.Line2D at 0x7d25a12835f0>]"
      ]
     },
     "execution_count": 156,
     "metadata": {},
     "output_type": "execute_result"
    },
    {
     "data": {
      "image/png": "[encoded data removed]",
      "text/plain": [
       "<Figure size 640x480 with 1 Axes>"
      ]
     },
     "metadata": {},
     "output_type": "display_data"
    }
   ],
   "source": [
    "plt.plot(stepi, lossi)"
   ]
  },
  {
   "cell_type": "markdown",
   "metadata": {},
   "source": [
    "Calculating the training loss"
   ]
  },
  {
   "cell_type": "code",
   "execution_count": 157,
   "metadata": {
    "execution": {
     "iopub.execute_input": "2024-10-26T11:54:17.335715Z",
     "iopub.status.busy": "2024-10-26T11:54:17.334989Z",
     "iopub.status.idle": "2024-10-26T11:54:17.935061Z",
     "shell.execute_reply": "2024-10-26T11:54:17.933778Z",
     "shell.execute_reply.started": "2024-10-26T11:54:17.335655Z"
    }
   },
   "outputs": [
    {
     "data": {
      "text/plain": [
       "tensor(2.0588, grad_fn=<NllLossBackward0>)"
      ]
     },
     "execution_count": 157,
     "metadata": {},
     "output_type": "execute_result"
    }
   ],
   "source": [
    "emb = C[Xtr] # (32, 3, 2)\n",
    "h = torch.tanh(emb.view(-1, 30) @ W1 + b1) # (32, 100)\n",
    "logits = h @ W2 + b2 # (32, 27)\n",
    "loss = F.cross_entropy(logits, Ytr)\n",
    "loss"
   ]
  },
  {
   "cell_type": "markdown",
   "metadata": {},
   "source": [
    "Calculating the development loss"
   ]
  },
  {
   "cell_type": "code",
   "execution_count": 158,
   "metadata": {
    "execution": {
     "iopub.execute_input": "2024-10-26T11:54:17.938595Z",
     "iopub.status.busy": "2024-10-26T11:54:17.938011Z",
     "iopub.status.idle": "2024-10-26T11:54:18.012596Z",
     "shell.execute_reply": "2024-10-26T11:54:18.011486Z",
     "shell.execute_reply.started": "2024-10-26T11:54:17.938537Z"
    }
   },
   "outputs": [
    {
     "data": {
      "text/plain": [
       "tensor(2.1317, grad_fn=<NllLossBackward0>)"
      ]
     },
     "execution_count": 158,
     "metadata": {},
     "output_type": "execute_result"
    }
   ],
   "source": [
    "emb = C[Xdev] # (32, 3, 2)\n",
    "h = torch.tanh(emb.view(-1, 30) @ W1 + b1) # (32, 100)\n",
    "logits = h @ W2 + b2 # (32, 27)\n",
    "loss = F.cross_entropy(logits, Ydev)\n",
    "loss"
   ]
  },
  {
   "cell_type": "markdown",
   "metadata": {},
   "source": [
    "Visualize dimensions 0 and 1 of the embedding matrix C for all characters"
   ]
  },
  {
   "cell_type": "code",
   "execution_count": 148,
   "metadata": {
    "execution": {
     "iopub.execute_input": "2024-10-26T11:45:30.096206Z",
     "iopub.status.busy": "2024-10-26T11:45:30.095492Z",
     "iopub.status.idle": "2024-10-26T11:45:30.582359Z",
     "shell.execute_reply": "2024-10-26T11:45:30.580618Z",
     "shell.execute_reply.started": "2024-10-26T11:45:30.096171Z"
    }
   },
   "outputs": [
    {
     "data": {
      "image/png": "[encoded data removed]",
      "text/plain": [
       "<Figure size 800x800 with 1 Axes>"
      ]
     },
     "metadata": {},
     "output_type": "display_data"
    }
   ],
   "source": [
    "\n",
    "plt.figure(figsize=(8,8))\n",
    "plt.scatter(C[:,0].data, C[:,1].data, s=200)\n",
    "for i in range(C.shape[0]):\n",
    "    plt.text(C[i,0].item(), C[i,1].item(), itos[i], ha=\"center\", va=\"center\", color='white')\n",
    "plt.grid('minor')"
   ]
  },
  {
   "cell_type": "markdown",
   "metadata": {},
   "source": [
    "Generating sample names or inferencing"
   ]
  },
  {
   "cell_type": "code",
   "execution_count": 150,
   "metadata": {
    "execution": {
     "iopub.execute_input": "2024-10-26T11:46:15.634820Z",
     "iopub.status.busy": "2024-10-26T11:46:15.633682Z",
     "iopub.status.idle": "2024-10-26T11:46:15.928329Z",
     "shell.execute_reply": "2024-10-26T11:46:15.925634Z",
     "shell.execute_reply.started": "2024-10-26T11:46:15.634712Z"
    },
    "scrolled": true
   },
   "outputs": [
    {
     "name": "stdout",
     "output_type": "stream",
     "text": [
      "mora.\n",
      "kayah.\n",
      "seen.\n",
      "nihahalerethrs.\n",
      "endraegrazeer.\n",
      "selin.\n",
      "shi.\n",
      "jenue.\n",
      "elieananara.\n",
      "pyrion.\n",
      "kamin.\n",
      "shubergiairiel.\n",
      "kinleenellennie.\n",
      "cayub.\n",
      "kaveer.\n",
      "yarul.\n",
      "els.\n",
      "kayshaston.\n",
      "azhya.\n",
      "salynn.\n"
     ]
    }
   ],
   "source": [
    "# sample from the model\n",
    "g = torch.Generator().manual_seed(2147483647 + 10)\n",
    "\n",
    "for _ in range(20):\n",
    "    \n",
    "    out = []\n",
    "    context = [0] * block_size # initialize with all ...\n",
    "    while True:\n",
    "      emb = C[torch.tensor([context])] # (1,block_size,d)\n",
    "      h = torch.tanh(emb.view(1, -1) @ W1 + b1)\n",
    "      logits = h @ W2 + b2\n",
    "      probs = F.softmax(logits, dim=1)\n",
    "      ix = torch.multinomial(probs, num_samples=1, generator=g).item()\n",
    "      context = context[1:] + [ix]\n",
    "      out.append(ix)\n",
    "      if ix == 0:\n",
    "        break\n",
    "    \n",
    "    print(''.join(itos[i] for i in out))"
   ]
  },
  {
   "cell_type": "code",
   "execution_count": null,
   "metadata": {},
   "outputs": [],
   "source": []
  }
 ],
 "metadata": {
  "kernelspec": {
   "display_name": "Python 3 (ipykernel)",
   "language": "python",
   "name": "python3"
  },
  "language_info": {
   "codemirror_mode": {
    "name": "ipython",
    "version": 3
   },
   "file_extension": ".py",
   "mimetype": "text/x-python",
   "name": "python",
   "nbconvert_exporter": "python",
   "pygments_lexer": "ipython3",
   "version": "3.12.7"
  }
 },
 "nbformat": 4,
 "nbformat_minor": 4
}
